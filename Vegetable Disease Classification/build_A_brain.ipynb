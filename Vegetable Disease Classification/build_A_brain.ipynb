{
 "cells": [
  {
   "cell_type": "code",
   "execution_count": 2,
   "id": "5a5a9b3c-2dfb-4605-9cec-4ba234d6ea04",
   "metadata": {},
   "outputs": [
    {
     "name": "stdout",
     "output_type": "stream",
     "text": [
      "TensorFlow version: 2.10.1\n",
      "Available GPU(s): [PhysicalDevice(name='/physical_device:GPU:0', device_type='GPU')]\n",
      "Is cuDNN enabled: True\n"
     ]
    }
   ],
   "source": [
    "import tensorflow as tf\n",
    "\n",
    "print(\"TensorFlow version:\", tf.__version__)\n",
    "print(\"Available GPU(s):\", tf.config.list_physical_devices('GPU'))\n",
    "print(\"Is cuDNN enabled:\", tf.test.is_built_with_cuda())\n"
   ]
  },
  {
   "cell_type": "code",
   "execution_count": 3,
   "id": "7ef14f6f-2d43-44cc-bba6-4e497d7ba1a4",
   "metadata": {},
   "outputs": [],
   "source": [
    "fashion_mnist = tf.keras.datasets.fashion_mnist\n",
    "(train_images, train_labels), (valid_images, valid_labels) = fashion_mnist.load_data()"
   ]
  },
  {
   "cell_type": "code",
   "execution_count": 4,
   "id": "350e6683-be68-4a7d-8b7c-75205b08aa9e",
   "metadata": {},
   "outputs": [
    {
     "data": {
      "image/png": "[encoded data removed]",
      "text/plain": [
       "<Figure size 640x480 with 2 Axes>"
      ]
     },
     "metadata": {},
     "output_type": "display_data"
    }
   ],
   "source": [
    "import matplotlib.pyplot as plt\n",
    "\n",
    "# The question number to study with. Feel free to change up to 59999.\n",
    "data_idx = 1\n",
    "\n",
    "plt.figure()\n",
    "plt.imshow(train_images[data_idx], cmap='gray')\n",
    "plt.colorbar()\n",
    "plt.grid(False)\n",
    "plt.show()"
   ]
  },
  {
   "cell_type": "code",
   "execution_count": 5,
   "id": "38d73a33-935c-42e3-9fd8-1c744139b054",
   "metadata": {},
   "outputs": [
    {
     "data": {
      "text/plain": [
       "0"
      ]
     },
     "execution_count": 5,
     "metadata": {},
     "output_type": "execute_result"
    }
   ],
   "source": [
    "train_labels[data_idx]\n"
   ]
  },
  {
   "cell_type": "code",
   "execution_count": 6,
   "id": "373283d9-a9a6-4ed2-be18-24fc03143cb9",
   "metadata": {},
   "outputs": [
    {
     "data": {
      "image/png": "[encoded data removed]",
      "text/plain": [
       "<Figure size 640x480 with 2 Axes>"
      ]
     },
     "metadata": {},
     "output_type": "display_data"
    }
   ],
   "source": [
    "import matplotlib.pyplot as plt\n",
    "\n",
    "# The question number to quiz with. Feel free to change up to 9999.\n",
    "data_idx = 6174\n",
    "\n",
    "plt.figure()\n",
    "plt.imshow(valid_images[data_idx], cmap='gray')\n",
    "plt.colorbar()\n",
    "plt.grid(False)\n",
    "plt.show()"
   ]
  },
  {
   "cell_type": "code",
   "execution_count": 7,
   "id": "911c326c-3ec7-4fbf-b904-8033ccd1ef1c",
   "metadata": {},
   "outputs": [
    {
     "data": {
      "text/plain": [
       "7"
      ]
     },
     "execution_count": 7,
     "metadata": {},
     "output_type": "execute_result"
    }
   ],
   "source": [
    "valid_labels[data_idx]"
   ]
  },
  {
   "cell_type": "code",
   "execution_count": 8,
   "id": "8998eebc-1107-485f-8e74-56a43067f6f6",
   "metadata": {},
   "outputs": [
    {
     "data": {
      "text/plain": [
       "array([[  0,   0,   0,   0,   0,   0,   0,   0,   0,   0,   0,   0,   0,\n",
       "          0,   0,   0,   0,   0,   0,   0,   0,   0,   0,   0,   0,   0,\n",
       "          0,   0],\n",
       "       [  0,   0,   0,   0,   0,   0,   0,   0,   0,   0,   0,   0,   0,\n",
       "          0,   0,   0,   0,   0,   0,   0,   0,   0,   0,   0,   0,   0,\n",
       "          0,   0],\n",
       "       [  0,   0,   0,   0,   0,   0,   0,   0,   0,   0,   0,   0,   0,\n",
       "          0,   0,   0,   0,   0,   0,   0,   0,   0,   0,   0,   0,   0,\n",
       "          0,   0],\n",
       "       [  0,   0,   0,   0,   0,   0,   0,   0,   0,   0,   0,   0,   0,\n",
       "          0,   0,   0,   0,   0,   0,   0,   0,   0,   0,   0,   0,   0,\n",
       "          0,   0],\n",
       "       [  0,   0,   0,   0,   0,   0,   0,   0,   0,   0,   0,   0,   0,\n",
       "          0,   0,   0,   0,   0,   0,   0,   0,   0,   0,   0,   0,   0,\n",
       "          0,   0],\n",
       "       [  0,   0,   0,   0,   0,   0,   0,   0,   0,   0,   0,   0,   0,\n",
       "          0,   0,   0,   0,   0,   0,   0,   0,   0,   0,   0,   0,   0,\n",
       "          0,   0],\n",
       "       [  0,   0,   0,   0,   0,   0,   0,   0,   0,   0,   0,   0,   0,\n",
       "          0,   0,   0,   0,   0,   0,   0,   0,   0,   0,   0,   0,   0,\n",
       "          0,   0],\n",
       "       [  0,   0,   0,   0,   0,   0,   0,   0,   0,   0,   0,   0,   0,\n",
       "          0,   0,   0, 155, 133,   0,   0,   1,   0,   0,   3,   0,   0,\n",
       "          0,   0],\n",
       "       [  0,   0,   0,   0,   0,   0,   0,   0,   0,   5,   0,   0,   0,\n",
       "          1,   0,   0, 175, 235,  35,   0,   3,   0,   5,   2,   3,   1,\n",
       "          0,   0],\n",
       "       [  0,   0,   0,   0,   0,   0,   0,   0,   0,   0,   1,   0,   0,\n",
       "          0,   0,  93, 219, 220,  32,   0,   0,   0,   0,   0,   0,   0,\n",
       "          1,   0],\n",
       "       [  0,   0,   0,   0,   0,   0,   0,   0,   0,   0,   2,   2,   0,\n",
       "          0, 147, 218, 159, 218,  28,   0,   2,   0,  82, 202, 115,   0,\n",
       "          0,   1],\n",
       "       [  0,   0,   0,   0,   0,   0,   0,   0,   2,   0,   0,   0,   0,\n",
       "        144, 248, 155, 105, 174,  87,   0,   0,   0, 233, 253, 213,   8,\n",
       "          0,   1],\n",
       "       [  1,   0,   0,   0,   1,   2,   2,   0,   0,   0,   0,  99, 233,\n",
       "        119,  81,  89, 140, 183, 208, 139,  74, 218, 223, 184, 189, 145,\n",
       "          0,   0],\n",
       "       [  0,   1,   2,   3,   5,   0,   0,   0,   0, 173, 153, 195,  97,\n",
       "        157, 220, 228, 213, 189, 182, 189, 220, 213, 174, 185, 186, 198,\n",
       "          0,   0],\n",
       "       [  1,   0,   0,   0,   0,  10, 129, 202, 198, 129, 149,  84, 124,\n",
       "        236, 221, 209, 226, 221, 166, 186, 179, 178, 205, 177, 206, 196,\n",
       "          0,   0],\n",
       "       [  0,   0,   6,  49,  80, 148, 203, 181, 203, 164, 145, 178, 159,\n",
       "        138, 174, 186, 162, 169, 177, 200, 214, 206, 178, 179, 205, 227,\n",
       "          6,   0],\n",
       "       [  3, 104, 128, 126, 124, 105,  85,  75,  99, 181, 140, 141, 185,\n",
       "        179, 181, 183, 185, 204, 227, 255, 224, 226, 234, 227, 159, 198,\n",
       "        198,   0],\n",
       "       [ 62, 150, 115, 111,  91, 117, 131, 102, 129, 120, 153, 176, 216,\n",
       "        232, 238, 238, 211, 242, 173,  26,   0,  54, 104,  20,   0,   0,\n",
       "         48,  16],\n",
       "       [116, 179, 173, 173, 202, 188, 200, 228, 179, 150, 100,  89, 164,\n",
       "         39,   0,  82, 129,  17,   0,   0,   0,   0,   0,   0,  25,  11,\n",
       "          0,  12],\n",
       "       [ 10, 122, 108, 148, 115, 145, 148,  79,  38,   0,   0,   0,   0,\n",
       "          0,   0,   0,   0,   0,   9,  14,   7,  18,   9,   5,   0,  12,\n",
       "          0,   0],\n",
       "       [  0,   5,  57,  67,   0,   0,   0,   1,   0,   0,   8,   8,  71,\n",
       "         55,  11,  32,  30,  30,  17,   4,   3,   9,  15,  17,  29,  37,\n",
       "         92, 106],\n",
       "       [  0,   0,   0,  58,  50, 142, 169,  80, 144, 156, 148, 159, 152,\n",
       "        156, 136, 151, 142,  70, 139, 161,  98, 131, 145,  60, 141, 121,\n",
       "         77,   0],\n",
       "       [  0,   0,   0,   0,   0,   0,   0,   0,   0,   0,   0,   0,   0,\n",
       "          0,   0,   0,   0,   0,   0,   0,   0,   0,   0,   0,   0,   0,\n",
       "          0,   0],\n",
       "       [  0,   0,   0,   0,   0,   0,   0,   0,   0,   0,   0,   0,   0,\n",
       "          0,   0,   0,   0,   0,   0,   0,   0,   0,   0,   0,   0,   0,\n",
       "          0,   0],\n",
       "       [  0,   0,   0,   0,   0,   0,   0,   0,   0,   0,   0,   0,   0,\n",
       "          0,   0,   0,   0,   0,   0,   0,   0,   0,   0,   0,   0,   0,\n",
       "          0,   0],\n",
       "       [  0,   0,   0,   0,   0,   0,   0,   0,   0,   0,   0,   0,   0,\n",
       "          0,   0,   0,   0,   0,   0,   0,   0,   0,   0,   0,   0,   0,\n",
       "          0,   0],\n",
       "       [  0,   0,   0,   0,   0,   0,   0,   0,   0,   0,   0,   0,   0,\n",
       "          0,   0,   0,   0,   0,   0,   0,   0,   0,   0,   0,   0,   0,\n",
       "          0,   0],\n",
       "       [  0,   0,   0,   0,   0,   0,   0,   0,   0,   0,   0,   0,   0,\n",
       "          0,   0,   0,   0,   0,   0,   0,   0,   0,   0,   0,   0,   0,\n",
       "          0,   0]], dtype=uint8)"
      ]
     },
     "execution_count": 8,
     "metadata": {},
     "output_type": "execute_result"
    }
   ],
   "source": [
    "# 28 lists with 28 values each\n",
    "valid_images[data_idx]"
   ]
  },
  {
   "cell_type": "code",
   "execution_count": 9,
   "id": "e68cca5a-daf3-4636-a781-5ab343fa7475",
   "metadata": {},
   "outputs": [
    {
     "data": {
      "text/plain": [
       "10"
      ]
     },
     "execution_count": 9,
     "metadata": {},
     "output_type": "execute_result"
    }
   ],
   "source": [
    "number_of_classes = train_labels.max() + 1\n",
    "number_of_classes"
   ]
  },
  {
   "cell_type": "code",
   "execution_count": 18,
   "id": "98a693c0-17b5-4948-a230-2864a684751a",
   "metadata": {},
   "outputs": [],
   "source": [
    "model = tf.keras.Sequential([\n",
    "    tf.keras.layers.Flatten(input_shape=(28, 28)),\n",
    "    tf.keras.layers.Dense(number_of_classes)\n",
    "])"
   ]
  },
  {
   "cell_type": "code",
   "execution_count": 19,
   "id": "9fc51ebd-d1ba-439f-ad98-930059a0ea85",
   "metadata": {},
   "outputs": [
    {
     "name": "stdout",
     "output_type": "stream",
     "text": [
      "Model: \"sequential_1\"\n",
      "_________________________________________________________________\n",
      " Layer (type)                Output Shape              Param #   \n",
      "=================================================================\n",
      " flatten_1 (Flatten)         (None, 784)               0         \n",
      "                                                                 \n",
      " dense_1 (Dense)             (None, 10)                7850      \n",
      "                                                                 \n",
      "=================================================================\n",
      "Total params: 7,850\n",
      "Trainable params: 7,850\n",
      "Non-trainable params: 0\n",
      "_________________________________________________________________\n"
     ]
    }
   ],
   "source": [
    "model.summary()"
   ]
  },
  {
   "cell_type": "code",
   "execution_count": 20,
   "id": "99b77e93-6ed7-4b57-b58a-c9a931b4741f",
   "metadata": {},
   "outputs": [
    {
     "data": {
      "text/plain": [
       "7840"
      ]
     },
     "execution_count": 20,
     "metadata": {},
     "output_type": "execute_result"
    }
   ],
   "source": [
    "image_height = 28\n",
    "image_width = 28\n",
    "\n",
    "number_of_weights = image_height * image_width * number_of_classes\n",
    "number_of_weights"
   ]
  },
  {
   "cell_type": "code",
   "execution_count": 21,
   "id": "3a785fbd-d1b9-411f-ad47-2ff3901a7a4a",
   "metadata": {},
   "outputs": [
    {
     "data": {
      "image/png": "[encoded data removed]",
      "text/plain": [
       "<IPython.core.display.Image object>"
      ]
     },
     "execution_count": 21,
     "metadata": {},
     "output_type": "execute_result"
    }
   ],
   "source": [
    "tf.keras.utils.plot_model(model, show_shapes=True)"
   ]
  },
  {
   "cell_type": "code",
   "execution_count": 22,
   "id": "eb2c1d70-6d92-4afc-8842-12210a4cc649",
   "metadata": {},
   "outputs": [],
   "source": [
    "model.compile(optimizer='adam',\n",
    "              loss=tf.keras.losses.SparseCategoricalCrossentropy(from_logits=True),\n",
    "              metrics=['accuracy'])"
   ]
  },
  {
   "cell_type": "code",
   "execution_count": 23,
   "id": "3ab0ba90-044a-4d90-8419-9836bf0130de",
   "metadata": {},
   "outputs": [
    {
     "name": "stdout",
     "output_type": "stream",
     "text": [
      "Epoch 1/50\n",
      "1875/1875 [==============================] - 10s 5ms/step - loss: 16.7127 - accuracy: 0.7450 - val_loss: 17.3755 - val_accuracy: 0.7415\n",
      "Epoch 2/50\n",
      "1875/1875 [==============================] - 9s 5ms/step - loss: 12.1248 - accuracy: 0.7880 - val_loss: 13.6496 - val_accuracy: 0.7905\n",
      "Epoch 3/50\n",
      "1875/1875 [==============================] - 8s 4ms/step - loss: 11.3283 - accuracy: 0.7970 - val_loss: 9.7210 - val_accuracy: 0.8068\n",
      "Epoch 4/50\n",
      "1875/1875 [==============================] - 8s 4ms/step - loss: 11.0439 - accuracy: 0.7980 - val_loss: 11.9828 - val_accuracy: 0.7919\n",
      "Epoch 5/50\n",
      "1875/1875 [==============================] - 10s 5ms/step - loss: 10.5462 - accuracy: 0.8042 - val_loss: 16.5300 - val_accuracy: 0.7420\n",
      "Epoch 6/50\n",
      "1875/1875 [==============================] - 9s 5ms/step - loss: 9.9544 - accuracy: 0.8040 - val_loss: 12.2034 - val_accuracy: 0.7936\n",
      "Epoch 7/50\n",
      "1875/1875 [==============================] - 9s 5ms/step - loss: 10.1519 - accuracy: 0.8058 - val_loss: 10.6599 - val_accuracy: 0.8037\n",
      "Epoch 8/50\n",
      "1875/1875 [==============================] - 9s 5ms/step - loss: 10.2073 - accuracy: 0.8083 - val_loss: 12.8479 - val_accuracy: 0.7697\n",
      "Epoch 9/50\n",
      "1875/1875 [==============================] - 9s 5ms/step - loss: 10.5914 - accuracy: 0.8046 - val_loss: 11.5299 - val_accuracy: 0.7964\n",
      "Epoch 10/50\n",
      "1875/1875 [==============================] - 9s 5ms/step - loss: 9.8826 - accuracy: 0.8093 - val_loss: 14.5696 - val_accuracy: 0.7789\n",
      "Epoch 11/50\n",
      "1875/1875 [==============================] - 9s 5ms/step - loss: 10.0165 - accuracy: 0.8102 - val_loss: 12.3169 - val_accuracy: 0.8056\n",
      "Epoch 12/50\n",
      "1875/1875 [==============================] - 10s 5ms/step - loss: 9.4943 - accuracy: 0.8090 - val_loss: 13.8848 - val_accuracy: 0.7777\n",
      "Epoch 13/50\n",
      "1875/1875 [==============================] - 9s 5ms/step - loss: 9.5084 - accuracy: 0.8111 - val_loss: 14.0243 - val_accuracy: 0.7680\n",
      "Epoch 14/50\n",
      "1875/1875 [==============================] - 10s 5ms/step - loss: 9.5561 - accuracy: 0.8106 - val_loss: 10.7982 - val_accuracy: 0.8043\n",
      "Epoch 15/50\n",
      "1875/1875 [==============================] - 9s 5ms/step - loss: 9.4956 - accuracy: 0.8120 - val_loss: 11.4717 - val_accuracy: 0.7993\n",
      "Epoch 16/50\n",
      "1875/1875 [==============================] - 9s 5ms/step - loss: 9.6552 - accuracy: 0.8115 - val_loss: 11.9623 - val_accuracy: 0.7910\n",
      "Epoch 17/50\n",
      "1875/1875 [==============================] - 9s 5ms/step - loss: 9.5892 - accuracy: 0.8119 - val_loss: 11.9330 - val_accuracy: 0.7905\n",
      "Epoch 18/50\n",
      "1875/1875 [==============================] - 10s 5ms/step - loss: 9.7307 - accuracy: 0.8110 - val_loss: 12.3576 - val_accuracy: 0.7916\n",
      "Epoch 19/50\n",
      "1875/1875 [==============================] - 9s 5ms/step - loss: 9.5776 - accuracy: 0.8118 - val_loss: 14.6707 - val_accuracy: 0.7566\n",
      "Epoch 20/50\n",
      "1875/1875 [==============================] - 9s 5ms/step - loss: 9.4044 - accuracy: 0.8137 - val_loss: 12.0877 - val_accuracy: 0.8068\n",
      "Epoch 21/50\n",
      "1875/1875 [==============================] - 8s 4ms/step - loss: 9.3875 - accuracy: 0.8131 - val_loss: 11.6300 - val_accuracy: 0.8098\n",
      "Epoch 22/50\n",
      "1875/1875 [==============================] - 9s 5ms/step - loss: 9.5982 - accuracy: 0.8125 - val_loss: 11.8778 - val_accuracy: 0.7958\n",
      "Epoch 23/50\n",
      "1875/1875 [==============================] - 10s 5ms/step - loss: 9.3224 - accuracy: 0.8155 - val_loss: 10.7414 - val_accuracy: 0.8102\n",
      "Epoch 24/50\n",
      "1875/1875 [==============================] - 10s 5ms/step - loss: 9.4366 - accuracy: 0.8132 - val_loss: 11.9447 - val_accuracy: 0.7938\n",
      "Epoch 25/50\n",
      "1875/1875 [==============================] - 10s 5ms/step - loss: 9.7386 - accuracy: 0.8153 - val_loss: 11.4217 - val_accuracy: 0.7862\n",
      "Epoch 26/50\n",
      "1875/1875 [==============================] - 8s 4ms/step - loss: 10.1528 - accuracy: 0.8127 - val_loss: 12.6760 - val_accuracy: 0.7956\n",
      "Epoch 27/50\n",
      "1875/1875 [==============================] - 8s 4ms/step - loss: 9.7631 - accuracy: 0.8158 - val_loss: 12.6048 - val_accuracy: 0.7851\n",
      "Epoch 28/50\n",
      "1875/1875 [==============================] - 8s 5ms/step - loss: 10.0784 - accuracy: 0.8135 - val_loss: 16.9382 - val_accuracy: 0.7677\n",
      "Epoch 29/50\n",
      "1875/1875 [==============================] - 9s 5ms/step - loss: 9.2880 - accuracy: 0.8147 - val_loss: 11.0460 - val_accuracy: 0.8148\n",
      "Epoch 30/50\n",
      "1875/1875 [==============================] - 9s 5ms/step - loss: 9.5228 - accuracy: 0.8151 - val_loss: 11.1766 - val_accuracy: 0.8045\n",
      "Epoch 31/50\n",
      "1875/1875 [==============================] - 8s 4ms/step - loss: 9.5861 - accuracy: 0.8156 - val_loss: 12.6029 - val_accuracy: 0.7939\n",
      "Epoch 32/50\n",
      "1875/1875 [==============================] - 9s 5ms/step - loss: 9.3921 - accuracy: 0.8164 - val_loss: 12.0091 - val_accuracy: 0.7993\n",
      "Epoch 33/50\n",
      "1875/1875 [==============================] - 9s 5ms/step - loss: 9.5394 - accuracy: 0.8164 - val_loss: 12.5643 - val_accuracy: 0.7874\n",
      "Epoch 34/50\n",
      "1875/1875 [==============================] - 8s 5ms/step - loss: 9.4328 - accuracy: 0.8167 - val_loss: 12.4574 - val_accuracy: 0.7874\n",
      "Epoch 35/50\n",
      "1875/1875 [==============================] - 9s 5ms/step - loss: 9.8862 - accuracy: 0.8146 - val_loss: 12.0844 - val_accuracy: 0.7937\n",
      "Epoch 36/50\n",
      "1875/1875 [==============================] - 9s 5ms/step - loss: 9.6996 - accuracy: 0.8170 - val_loss: 11.0037 - val_accuracy: 0.8039\n",
      "Epoch 37/50\n",
      "1875/1875 [==============================] - 9s 5ms/step - loss: 9.5560 - accuracy: 0.8154 - val_loss: 16.1787 - val_accuracy: 0.7633\n",
      "Epoch 38/50\n",
      "1875/1875 [==============================] - 9s 5ms/step - loss: 9.4665 - accuracy: 0.8165 - val_loss: 14.1650 - val_accuracy: 0.7720\n",
      "Epoch 39/50\n",
      "1875/1875 [==============================] - 10s 5ms/step - loss: 9.8600 - accuracy: 0.8156 - val_loss: 12.1944 - val_accuracy: 0.8060\n",
      "Epoch 40/50\n",
      "1875/1875 [==============================] - 10s 5ms/step - loss: 9.7985 - accuracy: 0.8148 - val_loss: 11.9212 - val_accuracy: 0.8157\n",
      "Epoch 41/50\n",
      "1875/1875 [==============================] - 9s 5ms/step - loss: 9.5547 - accuracy: 0.8169 - val_loss: 18.1328 - val_accuracy: 0.7476\n",
      "Epoch 42/50\n",
      "1875/1875 [==============================] - 9s 5ms/step - loss: 9.7499 - accuracy: 0.8148 - val_loss: 11.5457 - val_accuracy: 0.7951\n",
      "Epoch 43/50\n",
      "1875/1875 [==============================] - 9s 5ms/step - loss: 9.6402 - accuracy: 0.8165 - val_loss: 11.8023 - val_accuracy: 0.8065\n",
      "Epoch 44/50\n",
      "1875/1875 [==============================] - 9s 5ms/step - loss: 9.7060 - accuracy: 0.8164 - val_loss: 14.3940 - val_accuracy: 0.7761\n",
      "Epoch 45/50\n",
      "1875/1875 [==============================] - 9s 5ms/step - loss: 9.4670 - accuracy: 0.8173 - val_loss: 12.6399 - val_accuracy: 0.8132\n",
      "Epoch 46/50\n",
      "1875/1875 [==============================] - 9s 5ms/step - loss: 9.4070 - accuracy: 0.8189 - val_loss: 14.2009 - val_accuracy: 0.7906\n",
      "Epoch 47/50\n",
      "1875/1875 [==============================] - 10s 5ms/step - loss: 9.3527 - accuracy: 0.8179 - val_loss: 13.4987 - val_accuracy: 0.7761\n",
      "Epoch 48/50\n",
      "1875/1875 [==============================] - 9s 5ms/step - loss: 9.7354 - accuracy: 0.8169 - val_loss: 11.7282 - val_accuracy: 0.7988\n",
      "Epoch 49/50\n",
      "1875/1875 [==============================] - 9s 5ms/step - loss: 9.6847 - accuracy: 0.8172 - val_loss: 12.0118 - val_accuracy: 0.8046\n",
      "Epoch 50/50\n",
      "1875/1875 [==============================] - 10s 5ms/step - loss: 9.7690 - accuracy: 0.8166 - val_loss: 16.7737 - val_accuracy: 0.7844\n"
     ]
    }
   ],
   "source": [
    "history = model.fit(\n",
    "    train_images,\n",
    "    train_labels,\n",
    "    epochs=50,\n",
    "    verbose=True,\n",
    "    validation_data=(valid_images, valid_labels)\n",
    ")"
   ]
  },
  {
   "cell_type": "code",
   "execution_count": 24,
   "id": "5d4f53e8-c0d3-4b16-9da5-60c3f5998107",
   "metadata": {},
   "outputs": [
    {
     "name": "stdout",
     "output_type": "stream",
     "text": [
      "1/1 [==============================] - 0s 110ms/step\n"
     ]
    },
    {
     "data": {
      "text/plain": [
       "array([[ 9.1379692e+01, -9.2666162e+02,  1.1447593e+02,  1.8472185e+02,\n",
       "         9.1484261e+01,  1.0524633e+03,  3.4710849e+02,  9.1500439e+02,\n",
       "         5.2157709e+02,  1.5216434e+03],\n",
       "       [ 9.0229535e+02, -1.4401724e+01,  5.7284747e+02,  6.3400824e+02,\n",
       "         3.7642258e+02, -2.6047944e+03,  6.1770209e+02, -3.7540205e+03,\n",
       "         1.5344054e+02, -9.7051324e+02],\n",
       "       [ 2.9227191e+02,  1.8586621e+02,  2.1323015e+02,  3.1170126e+02,\n",
       "         2.3143266e+02, -6.8778900e+02,  2.2126479e+02, -1.2782970e+03,\n",
       "        -3.3215649e+00, -3.3617068e+02],\n",
       "       [ 4.7869205e+02,  2.3855353e+02,  3.8669000e+02,  4.8467749e+02,\n",
       "         3.3128397e+02, -1.1882448e+03,  4.1921094e+02, -2.2592810e+03,\n",
       "        -2.5223890e+01, -1.5395670e+03],\n",
       "       [ 6.0664581e+02,  4.9702890e+02,  3.8482712e+02,  6.2807404e+02,\n",
       "         5.0533246e+02, -1.3605680e+03,  4.2373434e+02, -1.5578252e+03,\n",
       "         1.3541646e+02, -1.5841949e+03],\n",
       "       [ 7.6348480e+02,  3.2868185e+02,  8.0112054e+02,  6.8349341e+02,\n",
       "         7.4756366e+02, -2.2643640e+03,  7.1425714e+02, -3.2291077e+03,\n",
       "         3.0987155e+02, -1.6543831e+03],\n",
       "       [-4.3751826e+00, -1.5305851e+01,  5.1954372e+01,  1.3642720e+02,\n",
       "        -4.9546288e+01,  5.0078793e+02,  3.4928188e+01,  5.6965320e+02,\n",
       "         2.2180711e+02,  3.9622256e+02],\n",
       "       [ 7.3107654e+02,  2.2134840e+02,  8.3837805e+02,  6.1477490e+02,\n",
       "         1.0008610e+03, -2.5088962e+03,  8.0344043e+02, -3.0753511e+03,\n",
       "         3.7122449e+02, -7.9935382e+02],\n",
       "       [-4.1571946e+00, -9.2318652e+02, -1.0644644e+02, -1.1660017e+02,\n",
       "        -2.2298459e+02,  8.8125385e+02,  3.1131905e+01,  2.5383350e+02,\n",
       "        -2.3167610e+01,  5.3329462e+02],\n",
       "       [ 2.5703913e+01, -5.8131335e+02,  1.5358566e+02,  8.0682396e+01,\n",
       "         1.9943575e+02,  1.3105671e+03,  2.6180298e+02, -1.1527101e+02,\n",
       "         1.7024303e+02,  5.5904462e+02]], dtype=float32)"
      ]
     },
     "execution_count": 24,
     "metadata": {},
     "output_type": "execute_result"
    }
   ],
   "source": [
    "model.predict(train_images[0:10])"
   ]
  },
  {
   "cell_type": "code",
   "execution_count": 25,
   "id": "ff9471f3-a899-4523-b55c-77a2028c108c",
   "metadata": {},
   "outputs": [
    {
     "data": {
      "image/png": "[encoded data removed]",
      "text/plain": [
       "<Figure size 640x480 with 2 Axes>"
      ]
     },
     "metadata": {},
     "output_type": "display_data"
    },
    {
     "name": "stdout",
     "output_type": "stream",
     "text": [
      "1/1 [==============================] - 0s 31ms/step\n"
     ]
    },
    {
     "data": {
      "image/png": "[encoded data removed]",
      "text/plain": [
       "<Figure size 640x480 with 1 Axes>"
      ]
     },
     "metadata": {},
     "output_type": "display_data"
    },
    {
     "name": "stdout",
     "output_type": "stream",
     "text": [
      "correct answer: 6\n"
     ]
    }
   ],
   "source": [
    "data_idx = 8675 # The question number to study with. Feel free to change up to 59999.\n",
    "\n",
    "plt.figure()\n",
    "plt.imshow(train_images[data_idx], cmap='gray')\n",
    "plt.colorbar()\n",
    "plt.grid(False)\n",
    "plt.show()\n",
    "\n",
    "x_values = range(number_of_classes)\n",
    "plt.figure()\n",
    "plt.bar(x_values, model.predict(train_images[data_idx:data_idx+1]).flatten())\n",
    "plt.xticks(range(10))\n",
    "plt.show()\n",
    "\n",
    "print(\"correct answer:\", train_labels[data_idx])"
   ]
  }
 ],
 "metadata": {
  "kernelspec": {
   "display_name": "Python 3 (ipykernel)",
   "language": "python",
   "name": "python3"
  },
  "language_info": {
   "codemirror_mode": {
    "name": "ipython",
    "version": 3
   },
   "file_extension": ".py",
   "mimetype": "text/x-python",
   "name": "python",
   "nbconvert_exporter": "python",
   "pygments_lexer": "ipython3",
   "version": "3.10.16"
  }
 },
 "nbformat": 4,
 "nbformat_minor": 5
}
